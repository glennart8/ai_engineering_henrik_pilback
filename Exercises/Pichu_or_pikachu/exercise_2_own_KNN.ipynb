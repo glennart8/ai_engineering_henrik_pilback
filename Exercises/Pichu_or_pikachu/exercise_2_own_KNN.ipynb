{
 "cells": [
  {
   "cell_type": "markdown",
   "id": "04292c81",
   "metadata": {},
   "source": [
    "<!-- ## 3. Implement your own KNN\n",
    "Check out exercise pikachu_pichu under the folder extra. This is quite good exercise to do to understand how KNN works and to learn how to work without libraries such as scikit-learn. I usually give out this exercise as a lab for the first python course for data science. -->"
   ]
  },
  {
   "cell_type": "markdown",
   "id": "d119d7fb",
   "metadata": {},
   "source": []
  }
 ],
 "metadata": {
  "language_info": {
   "name": "python"
  }
 },
 "nbformat": 4,
 "nbformat_minor": 5
}
